{
 "cells": [
  {
   "cell_type": "markdown",
   "id": "d2d1476c",
   "metadata": {},
   "source": [
    "# Apuntes del  curso en Python\n",
    "En este cuaderno de Jupyter Notebook recogeré los apuntes básicos del curso de Python.\n",
    "\n",
    "## Tabla de contenidos\n",
    "1. [Tipos de datos en Python](#1)\n",
    "\n",
    "\n",
    "2. [Estructuras de datos](#2)\n",
    "    * Listas\n",
    "    * Diccionario\n",
    "    * Tuplas\n",
    "    * Conjuntos\n",
    "\n",
    "\n",
    "3. [Estructuras de control en Python](#3)\n",
    "    * Condiciones\n",
    "    * Bucles\n",
    "\n",
    "\n",
    "4. [Funciones interesantes en Python](#4)\n",
    "    * Operaciones sobre strings\n",
    "    * Entrada de la información\n",
    "\t* Funciones personalizadas\n",
    "\t* Funciones Lambda\n",
    "    * Manipulación de archivos\n",
    "\n",
    "\n",
    "5. [Clases](#5)\n",
    "\n",
    "\n",
    "6. [Paquetes](#6)\n",
    "    \n",
    "\n",
    "<a class=\"anchor\" id=\"1\"></a>\n",
    "# Tipos de datos en Python\n",
    "\n",
    "* **float (punto flotante)**: números reales.\n",
    "\n",
    "* **int (entero)**: números enteros.\n",
    "\n",
    "* **str (cadena)** textos. Podemos definir cadenas usando comillas simples \"valor\", comillas dobles \"valor\", o comillas triples \"valor\"\". Las cadenas de comillas triples pueden estar en múltiples líneas, las nuevas líneas se incluirán en el valor de la variable. También se utilizan para escribir la documentación de la función.\n",
    "\n",
    "* **bool (booleano)**: valores de verdad. Es útil para realizar una operación de filtrado en un dato.\n",
    "\n",
    "* **list**: almacenar una colección de valores.\n",
    "\n",
    "* **dict (diccionario)**: almacenar un par de valores clave.\n",
    "\n",
    "**Función type(nombre_variable)**: función para comprobar el tipo de una variable específica."
   ]
  },
  {
   "cell_type": "code",
   "execution_count": 3,
   "id": "dd022bfa",
   "metadata": {},
   "outputs": [
    {
     "name": "stdout",
     "output_type": "stream",
     "text": [
      "<class 'int'> <class 'float'> <class 'str'> <class 'bool'>\n"
     ]
    }
   ],
   "source": [
    "# Integer number\n",
    "year_of_birth = 1994\n",
    "\n",
    "# Float number\n",
    "height_cm = 170.50\n",
    "\n",
    "# String\n",
    "subject = \"Data Science\"\n",
    "\n",
    "# Boolean\n",
    "is_success = True\n",
    "\n",
    "\n",
    "print(type(year_of_birth), type(height_cm), type(subject), type(is_success))"
   ]
  },
  {
   "cell_type": "markdown",
   "id": "3cd30e28",
   "metadata": {},
   "source": [
    "<a class=\"anchor\" id=\"2\"></a>\n",
    "# Estructuras de datos\n",
    "## Listas\n",
    "Una lista es una colección ordenada y cambiante. Cuando necesitamos almacenar múltiples valores (los valores pueden ser de diferentes tipos como entero, flotante, cadena) en una sola variable, entonces necesitamos usar list."
   ]
  },
  {
   "cell_type": "code",
   "execution_count": 15,
   "id": "be999b4e",
   "metadata": {},
   "outputs": [
    {
     "name": "stdout",
     "output_type": "stream",
     "text": [
      "1\n",
      "Hello\n",
      "3.4\n"
     ]
    }
   ],
   "source": [
    "# empty list\n",
    "my_list = []\n",
    "\n",
    "# list of integers\n",
    "my_list = [1,2,3]\n",
    "\n",
    "# list of string\n",
    "my_list = ['Hello', 'world']\n",
    "\n",
    "# list with mixed data types\n",
    "my_list = [1, \"Hello\", 3.4]\n",
    "\n",
    "# access to the elements of the list\n",
    "print(my_list[0])\n",
    "print(my_list[1])\n",
    "print(my_list[2])"
   ]
  },
  {
   "cell_type": "markdown",
   "id": "727ae97c",
   "metadata": {},
   "source": [
    "**Añadir y quitar elementos a la lista**\n",
    "* Añadir un elemento a una lista `lista.append(elemento)`\n",
    "* Quitar el último elemento de la lista `lista.pop()`\n",
    "\n",
    "**Coger solo algunos elementos de la lista (slicing)**\n",
    "\n",
    "Se utiliza`lista[cosas]` -> ¿Qué es cosas?\n",
    "* Toda la lista `lista[:]`\n",
    "* Desde el primero al quinto `lista[:5]`\n",
    "* Desde el segundo al final `lista[1:]`\n",
    "* Desde el segundo al quinto `lista[1:5]`\n",
    "* Desde el principio al penúltimo `lista[:-2]`"
   ]
  },
  {
   "cell_type": "markdown",
   "id": "35dea6f5",
   "metadata": {},
   "source": [
    "## Diccionario\n",
    "El diccionario nos permite dar una **clave** única para cada **valor**.\n",
    "\n",
    "Un diccionario es una colección que no está ordenada, es cambiante y está indexada."
   ]
  },
  {
   "cell_type": "code",
   "execution_count": 18,
   "id": "3b9d60ae",
   "metadata": {},
   "outputs": [
    {
     "name": "stdout",
     "output_type": "stream",
     "text": [
      "My name is:  John\n",
      "I am 30 years old\n",
      "I am 5.8 feet tall\n"
     ]
    }
   ],
   "source": [
    "# creating dictionary\n",
    "dictionary_example = {\n",
    "    \"key1\": \"value1\",\n",
    "    \"key2\": \"value2\",\n",
    "    \"key3\": \"value3\"\n",
    "}\n",
    "\n",
    "# another example\n",
    "personal_info = {\n",
    "    'name': 'John',\n",
    "    'age': 30,\n",
    "    'height': 5.8\n",
    "}\n",
    "\n",
    "# access to the data in the dictionary\n",
    "print(\"My name is: \", personal_info['name'])\n",
    "print(\"I am {} years old\".format(personal_info['age']))\n",
    "print(\"I am {} feet tall\".format(personal_info['height']))"
   ]
  },
  {
   "cell_type": "markdown",
   "id": "1a73f574",
   "metadata": {},
   "source": [
    "**Creación de diccionarios utilizando un bucle for**\n",
    "\n",
    "Una forma original de crear diccionarios sería de utilizando un bucle for:"
   ]
  },
  {
   "cell_type": "code",
   "execution_count": 29,
   "id": "2dc20a63",
   "metadata": {},
   "outputs": [
    {
     "name": "stdout",
     "output_type": "stream",
     "text": [
      "{'Esto': 'esto', 'es': 'es', 'una': 'una', 'frase': 'frase', 'RARuna': 'raruna'}\n"
     ]
    }
   ],
   "source": [
    "diccionario_palabras = {palabra: palabra.lower() for palabra in \"Esto es una frase RARuna\".split()}\n",
    "print(diccionario_palabras)"
   ]
  },
  {
   "cell_type": "markdown",
   "id": "6b5665aa",
   "metadata": {},
   "source": [
    "## Tuplas\n",
    "No se pueden cambiar una vez definidas."
   ]
  },
  {
   "cell_type": "markdown",
   "id": "4e290ef4",
   "metadata": {},
   "source": [
    "## Conjuntos\n",
    "No ordenados, no indexados. Solo guarda los elementos una vez."
   ]
  },
  {
   "cell_type": "code",
   "execution_count": 21,
   "id": "6a4db268",
   "metadata": {},
   "outputs": [
    {
     "name": "stdout",
     "output_type": "stream",
     "text": [
      "{1, 2, 3, 4, 'hola'}\n"
     ]
    }
   ],
   "source": [
    "mi_conjunto = {1,1,2,3,1,4,4,3,\"hola\"} # nótese que hemos incluido algunos elementos varias veces pero solo lo guardará 1 vez\n",
    "print(mi_conjunto)"
   ]
  },
  {
   "cell_type": "markdown",
   "id": "646e30f8",
   "metadata": {},
   "source": [
    "<a class=\"anchor\" id=\"3\"></a>\n",
    "# Estructuras de control en Python\n",
    "## Condiciones"
   ]
  },
  {
   "cell_type": "code",
   "execution_count": 7,
   "id": "66877df0",
   "metadata": {},
   "outputs": [
    {
     "name": "stdout",
     "output_type": "stream",
     "text": [
      "You are adult\n"
     ]
    }
   ],
   "source": [
    "age=18\n",
    "if age>=18:\n",
    "  print(\"You are adult\")\n",
    "else:\n",
    "  print(\"You are not adult\")"
   ]
  },
  {
   "cell_type": "markdown",
   "id": "ec6f8b9b",
   "metadata": {},
   "source": [
    "## Bucles\n",
    "### Bucle for"
   ]
  },
  {
   "cell_type": "code",
   "execution_count": 8,
   "id": "df4502b5",
   "metadata": {},
   "outputs": [
    {
     "name": "stdout",
     "output_type": "stream",
     "text": [
      "0\n",
      "1\n",
      "2\n",
      "3\n",
      "4\n"
     ]
    }
   ],
   "source": [
    "# Prints out the numbers 0, 1, 2, 3 and 4\n",
    "for x in range(5):\n",
    "    print(x)"
   ]
  },
  {
   "cell_type": "markdown",
   "id": "a07399a4",
   "metadata": {},
   "source": [
    "**Uso de blucle for con estructuras de datos**\n",
    "\n",
    "Hay formas diferentes de realizar el bucle for, dependiendo de si queremos utilizar estructuras:"
   ]
  },
  {
   "cell_type": "code",
   "execution_count": 22,
   "id": "ec2c2dbd",
   "metadata": {},
   "outputs": [
    {
     "name": "stdout",
     "output_type": "stream",
     "text": [
      "0\n",
      "1\n",
      "2\n",
      "3\n"
     ]
    }
   ],
   "source": [
    "# por cada elemento en una structura de datos -> for elemento in estructura:\n",
    "for a in range(4):\n",
    "    print(a)"
   ]
  },
  {
   "cell_type": "code",
   "execution_count": 24,
   "id": "a10b14c2",
   "metadata": {},
   "outputs": [
    {
     "name": "stdout",
     "output_type": "stream",
     "text": [
      "1\n",
      "Hello\n",
      "3.4\n"
     ]
    }
   ],
   "source": [
    "# list with mixed data types\n",
    "my_list = [1, \"Hello\", 3.4]\n",
    "\n",
    "# print each of the elements in the list\n",
    "for element in my_list:\n",
    "    print(element)"
   ]
  },
  {
   "cell_type": "code",
   "execution_count": 26,
   "id": "12d3fc16",
   "metadata": {},
   "outputs": [
    {
     "name": "stdout",
     "output_type": "stream",
     "text": [
      "0 1\n",
      "1 Hello\n",
      "2 3.4\n"
     ]
    }
   ],
   "source": [
    "# print each of the elements in the list and their position\n",
    "for i, element in enumerate(my_list):\n",
    "    print(i, element)"
   ]
  },
  {
   "cell_type": "code",
   "execution_count": 28,
   "id": "6482f540",
   "metadata": {},
   "outputs": [
    {
     "name": "stdout",
     "output_type": "stream",
     "text": [
      "The key name contains the value John\n",
      "The key age contains the value 30\n",
      "The key height contains the value 5.8\n"
     ]
    }
   ],
   "source": [
    "# dictionary\n",
    "personal_info = {\n",
    "    'name': 'John',\n",
    "    'age': 30,\n",
    "    'height': 5.8\n",
    "}\n",
    "\n",
    "# print information from a dictionary\n",
    "for key, value in personal_info.items():\n",
    "    print(\"The key {0} contains the value {1}\".format(key,value))"
   ]
  },
  {
   "cell_type": "markdown",
   "id": "ad3039c7",
   "metadata": {},
   "source": [
    "**Otras formas del uso de bucle for**"
   ]
  },
  {
   "cell_type": "code",
   "execution_count": 46,
   "id": "36835d28",
   "metadata": {},
   "outputs": [
    {
     "name": "stdout",
     "output_type": "stream",
     "text": [
      "[0, 3, 6, 9, 12, 15, 18, 21, 24, 27]\n"
     ]
    }
   ],
   "source": [
    "# se puede utilizar directamente en la declaración de una lista\n",
    "lista_numeros = [a*3 for a in range(10)]\n",
    "print(lista_numeros)"
   ]
  },
  {
   "cell_type": "markdown",
   "id": "22f06a34",
   "metadata": {},
   "source": [
    "### Bucle while"
   ]
  },
  {
   "cell_type": "code",
   "execution_count": 9,
   "id": "04d24c3a",
   "metadata": {},
   "outputs": [
    {
     "name": "stdout",
     "output_type": "stream",
     "text": [
      "1\n",
      "2\n",
      "3\n",
      "4\n",
      "5\n"
     ]
    }
   ],
   "source": [
    "num = 1\n",
    "while num <= 5:\n",
    "    print(num)\n",
    "    num = num +1"
   ]
  },
  {
   "cell_type": "markdown",
   "id": "cbdfeba6",
   "metadata": {},
   "source": [
    "<a class=\"anchor\" id=\"4\"></a>\n",
    "# Funciones interesantes en Python\n",
    "## Operaciones sobre strings\n",
    "* Concatenar dos cadenas `+`\n",
    "* Longitud de la cadena en caracteres `len`\n",
    "* Partir una cadena `split`\n",
    "* Quitar espacios de principio o final `strip`\n",
    "* Pasar a todo minúsculas `lower`\n",
    "* Pasar a todo mayúsculas `upper`\n",
    "* Formatear vs concatenar `format`"
   ]
  },
  {
   "cell_type": "code",
   "execution_count": 19,
   "id": "e572c109",
   "metadata": {
    "scrolled": true
   },
   "outputs": [
    {
     "name": "stdout",
     "output_type": "stream",
     "text": [
      "El resultado de la primera prueba es 3 y el resultado de la segunda prueba es 2\n",
      "El resultado de la primera prueba es 3 y el resultado de la segunda prueba es 2\n"
     ]
    }
   ],
   "source": [
    "print('El resultado de la primera prueba es '+ '3'+ ' y el resultado de la segunda prueba es '+ '2')\n",
    "print('El resultado de la primera prueba es {0} y el resultado de la segunda prueba es {1}'.format(3,2))"
   ]
  },
  {
   "cell_type": "markdown",
   "id": "16edde6e",
   "metadata": {},
   "source": [
    "\n",
    "## Entrada de la información\n",
    "Utilizaremos la función **input()** para recoger la entrada del usuario."
   ]
  },
  {
   "cell_type": "code",
   "execution_count": 6,
   "id": "de78549a",
   "metadata": {
    "scrolled": true
   },
   "outputs": [
    {
     "name": "stdout",
     "output_type": "stream",
     "text": [
      "Enter your age (any format is permitted): 10.11d\n",
      "Enter your age (integer format): 10\n",
      "Enter your age (float format): 10.1\n"
     ]
    }
   ],
   "source": [
    "#Taking string  as input and return string as output\n",
    "age=input('Enter your age (any format is permitted): ')\n",
    "\n",
    "#Taking string as input and convert it into integer.\n",
    "age=int(input('Enter your age (integer format): '))\n",
    "\n",
    "#Taking string as input and covert it into float\n",
    "age=float(input('Enter your age (float format): '))"
   ]
  },
  {
   "cell_type": "markdown",
   "id": "ab0ee659",
   "metadata": {},
   "source": [
    "## Funciones personalizadas\n",
    "En Python una función se define usando la palabra clave \"def\"."
   ]
  },
  {
   "cell_type": "code",
   "execution_count": 12,
   "id": "a5be91ca",
   "metadata": {},
   "outputs": [
    {
     "name": "stdout",
     "output_type": "stream",
     "text": [
      "Hello I am a function\n",
      "7\n"
     ]
    }
   ],
   "source": [
    "# Creating a function\n",
    "def my_function_addition(a, b):\n",
    "    print('Hello I am a function')\n",
    "    return a+b\n",
    "\n",
    "# Calling the function\n",
    "temp = my_function_addition(5, 2)\n",
    "print(temp)"
   ]
  },
  {
   "cell_type": "markdown",
   "id": "04d032ef",
   "metadata": {},
   "source": [
    "## Funciones Lambda\n",
    "Las funciones lambda de Python son funciones anónimas, lo que significa que la función no tiene nombre. Como ya sabemos, la palabra clave def se utiliza para definir una función normal en Python. Del mismo modo, la palabra clave lambda se utiliza para definir una función anónima en Python. "
   ]
  },
  {
   "cell_type": "code",
   "execution_count": 47,
   "id": "c79c227d",
   "metadata": {},
   "outputs": [
    {
     "name": "stdout",
     "output_type": "stream",
     "text": [
      "['soup', 'salad']\n"
     ]
    }
   ],
   "source": [
    "# Use lambda expressions and the filter() function to filter out words from a list that don't start with the letter 's'. \n",
    "seq = ['soup','dog','salad','cat','great']\n",
    "result = list(filter(lambda x: x.startswith(\"s\"), seq))\n",
    "print(result)"
   ]
  },
  {
   "cell_type": "markdown",
   "id": "e753204c",
   "metadata": {},
   "source": [
    "## Manipulación de archivos\n",
    "**Apertura y cierre**\n",
    "\n",
    "`open(\"nombre_archivo\",'op')`\n",
    "\n",
    "Las opciones (op) son:\n",
    "\n",
    "* `r` Leer. Error si no existe el archivo\n",
    "* `a` Añadir. Abre un fichero y añade el contenido al final. Si no existe lo crea\n",
    "* `w` Escribir desde el principio de un archivo. Si no existe lo crea\n",
    "* `x` Crear un archivo vacío.\n",
    "\n",
    "\n",
    "una vez se ha terminado, se cierra el archivo con `.close()`"
   ]
  },
  {
   "cell_type": "code",
   "execution_count": 49,
   "id": "718e9b0f",
   "metadata": {},
   "outputs": [],
   "source": [
    "f = open(\"prueba.txt\",'r')\n",
    "f.close()"
   ]
  },
  {
   "cell_type": "markdown",
   "id": "cec2393c",
   "metadata": {},
   "source": [
    "**Lectura**\n",
    "* `.read()` Leer todo el contenido\n",
    "* `.read(num)` Leer ´num´ caracteres\n",
    "* `readline()` Leer una línea (hasta \\n)\n",
    "* ``readlines()`` Leer todas las líneas y guardarlas en una lista"
   ]
  },
  {
   "cell_type": "code",
   "execution_count": 51,
   "id": "c03df510",
   "metadata": {},
   "outputs": [
    {
     "name": "stdout",
     "output_type": "stream",
     "text": [
      "Hola mundo desde el archivo!\n"
     ]
    }
   ],
   "source": [
    "archivo = open(\"prueba.txt\",'r')\n",
    "contenido = archivo.read()\n",
    "archivo.close()\n",
    "print(contenido)"
   ]
  },
  {
   "cell_type": "markdown",
   "id": "e9235269",
   "metadata": {},
   "source": [
    "**Escribir**\n",
    "\n",
    "Se realiza mediante `.write()`"
   ]
  },
  {
   "cell_type": "code",
   "execution_count": 52,
   "id": "7596c0e5",
   "metadata": {},
   "outputs": [
    {
     "name": "stdout",
     "output_type": "stream",
     "text": [
      "Hola mundo desde el archivo!Esto es un contenido\n"
     ]
    }
   ],
   "source": [
    "archivo = open(\"prueba.txt\",'a')\n",
    "archivo.write(\"Esto es un contenido\")\n",
    "archivo.close()\n",
    "\n",
    "archivo = open(\"prueba.txt\",'r')\n",
    "contenido = archivo.read()\n",
    "archivo.close()\n",
    "print(contenido)"
   ]
  },
  {
   "cell_type": "markdown",
   "id": "2fab818f",
   "metadata": {},
   "source": [
    "<a class=\"anchor\" id=\"5\"></a>\n",
    "# Clases\n",
    "Tipo personalizdo.\n",
    "\n",
    "Dentro de las clases podemos crear funciones propias, las cuales son llamadas **métodos**.\n",
    "\n",
    "## Ejemplo sencillo"
   ]
  },
  {
   "cell_type": "code",
   "execution_count": 31,
   "id": "30c67c21",
   "metadata": {},
   "outputs": [],
   "source": [
    "# con esto, Smartphone será un nuevo tipo de dato, que contendrá dentro su marca, modelo y los años que tiene el smartphone\n",
    "class Smartphone:\n",
    "    def __init__(self,marca,modelo):\n",
    "        self.marca = marca\n",
    "        self.modelo = modelo\n",
    "        self.anios = 0\n",
    "    def aumentar_anios(self,antiguedad):\n",
    "        self.anios += antiguedad\n",
    "     "
   ]
  },
  {
   "cell_type": "code",
   "execution_count": 36,
   "id": "8590d783",
   "metadata": {},
   "outputs": [
    {
     "name": "stdout",
     "output_type": "stream",
     "text": [
      "La marca es: Xiaomi\n",
      "El modelo es: Mi9T\n",
      "Este smartphone tiene 0 años\n"
     ]
    }
   ],
   "source": [
    "mi_smartphone = Smartphone(\"Xiaomi\", \"Mi9T\")\n",
    "print(\"La marca es: \" + mi_smartphone.marca)\n",
    "print(\"El modelo es: \" + mi_smartphone.modelo)\n",
    "print(\"Este smartphone tiene {0} años\".format(mi_smartphone.anios))"
   ]
  },
  {
   "cell_type": "code",
   "execution_count": 38,
   "id": "a2d43b41",
   "metadata": {},
   "outputs": [
    {
     "name": "stdout",
     "output_type": "stream",
     "text": [
      "Este smartphone tiene 10 años\n"
     ]
    }
   ],
   "source": [
    "mi_smartphone.aumentar_anios(5) # notese que si lo ejecutamos 2 veces, irá aumentando los años\n",
    "print(\"Este smartphone tiene {0} años\".format(mi_smartphone.anios))"
   ]
  },
  {
   "cell_type": "markdown",
   "id": "a7496ad2",
   "metadata": {},
   "source": [
    "## Herencia\n",
    "\n",
    "Podemos hacer que smartphone extienda de producto, de modo que los atributos como marca y modelo pueden estar definidos a nivel de producto."
   ]
  },
  {
   "cell_type": "code",
   "execution_count": 42,
   "id": "9dc5a1f6",
   "metadata": {},
   "outputs": [],
   "source": [
    "class Producto:\n",
    "    def __init__(self,marca,modelo):\n",
    "        self.marca = marca\n",
    "        self.modelo = modelo\n",
    "        self.anios = 0\n",
    "    def aumentar_anios(self,antiguedad):\n",
    "        self.anios += antiguedad\n",
    "        \n",
    "# ahora hacemos que smartphone herede de producto\n",
    "class Smartphone(Producto):\n",
    "    pass # palabra reservada para cuando no queremos hacer nada\n",
    "\n",
    "# o incluso podemos heredar y además añadir otros atributos\n",
    "class Coche(Producto):\n",
    "    def __init__(self,marca,modelo,puertas):\n",
    "        super().__init__(marca,modelo)\n",
    "        self.puertas = puertas\n",
    "    def subir_anios(self,antiguedad):\n",
    "        super.aumentar_anios(self,antiguedad)\n",
    "    def get_anios(self):\n",
    "        return self.anios"
   ]
  },
  {
   "cell_type": "code",
   "execution_count": 45,
   "id": "887da12c",
   "metadata": {},
   "outputs": [
    {
     "name": "stdout",
     "output_type": "stream",
     "text": [
      "La marca es: Citroen\n",
      "El modelo es: Xsara\n",
      "El coche tiene 4 puertas\n",
      "Este coche tiene 0 años\n"
     ]
    }
   ],
   "source": [
    "mi_coche = Coche(\"Citroen\", \"Xsara\",4)\n",
    "print(\"La marca es: \" + mi_coche.marca)\n",
    "print(\"El modelo es: \" + mi_coche.modelo)\n",
    "print(\"El coche tiene {0} puertas\".format(mi_coche.puertas))\n",
    "print(\"Este coche tiene {0} años\".format(mi_coche.anios))"
   ]
  },
  {
   "cell_type": "markdown",
   "id": "54693f7d",
   "metadata": {},
   "source": [
    "<a class=\"anchor\" id=\"6\"></a>\n",
    "# Paquetes\n",
    "Un **módulo** es un archivo que contiene definiciones y declaraciones en Python. Especifican funciones, métodos y nuevos tipos de Python que resuelven problemas particulares.\n",
    "\n",
    "Un **paquete** es una colección de módulos en directorios.\n",
    "\n",
    "Ejemplos:\n",
    "* \"NumPy\" para trabajar con los conjuntos\n",
    "* \"matplotlib\" y \"seaborn\" para la visualización de datos\n",
    "* \"scikit-learn\" para el machine learning\n",
    "\n",
    "Si queremos usar algún paquete, tenemos que tenerlo ya instalado o  instalarlo usando pip."
   ]
  }
 ],
 "metadata": {
  "kernelspec": {
   "display_name": "Python 3 (ipykernel)",
   "language": "python",
   "name": "python3"
  },
  "language_info": {
   "codemirror_mode": {
    "name": "ipython",
    "version": 3
   },
   "file_extension": ".py",
   "mimetype": "text/x-python",
   "name": "python",
   "nbconvert_exporter": "python",
   "pygments_lexer": "ipython3",
   "version": "3.9.12"
  }
 },
 "nbformat": 4,
 "nbformat_minor": 5
}
