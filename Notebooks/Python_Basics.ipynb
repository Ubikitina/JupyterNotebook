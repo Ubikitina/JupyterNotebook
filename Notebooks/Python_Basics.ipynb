{
 "cells": [
  {
   "cell_type": "markdown",
   "id": "ee284f22",
   "metadata": {},
   "source": [
    "# Apuntes del  curso en Python\n",
    "En este cuaderno de Jupyter Notebook recogeré los apuntes básicos del curso de Python.\n",
    "\n",
    "# Tipos de datos en Python\n",
    "\n",
    "* **float (punto flotante)**: números reales.\n",
    "\n",
    "* **int (entero)**: números enteros.\n",
    "\n",
    "* **str (cadena)** textos. Podemos definir cadenas usando comillas simples \"valor\", comillas dobles \"valor\", o comillas triples \"valor\"\". Las cadenas de comillas triples pueden estar en múltiples líneas, las nuevas líneas se incluirán en el valor de la variable. También se utilizan para escribir la documentación de la función.\n",
    "\n",
    "* **bool (booleano)**: valores de verdad. Es útil para realizar una operación de filtrado en un dato.\n",
    "\n",
    "* **list**: almacenar una colección de valores.\n",
    "\n",
    "* **dict (diccionario)**: almacenar un par de valores clave.\n",
    "\n",
    "**Función type(nombre_variable)**: función para comprobar el tipo de una variable específica."
   ]
  },
  {
   "cell_type": "code",
   "execution_count": 3,
   "id": "23c16463",
   "metadata": {},
   "outputs": [
    {
     "name": "stdout",
     "output_type": "stream",
     "text": [
      "<class 'int'> <class 'float'> <class 'str'> <class 'bool'>\n"
     ]
    }
   ],
   "source": [
    "# Integer number\n",
    "year_of_birth = 1994\n",
    "\n",
    "# Float number\n",
    "height_cm = 170.50\n",
    "\n",
    "# String\n",
    "subject = \"Data Science\"\n",
    "\n",
    "# Boolean\n",
    "is_success = True\n",
    "\n",
    "\n",
    "print(type(year_of_birth), type(height_cm), type(subject), type(is_success))"
   ]
  },
  {
   "cell_type": "markdown",
   "id": "d5a42805",
   "metadata": {},
   "source": [
    "# Estructuras de datos\n",
    "## Listas\n",
    "Una lista es una colección ordenada y cambiante. Cuando necesitamos almacenar múltiples valores (los valores pueden ser de diferentes tipos como entero, flotante, cadena) en una sola variable, entonces necesitamos usar list."
   ]
  },
  {
   "cell_type": "code",
   "execution_count": 15,
   "id": "986075bc",
   "metadata": {},
   "outputs": [
    {
     "name": "stdout",
     "output_type": "stream",
     "text": [
      "1\n",
      "Hello\n",
      "3.4\n"
     ]
    }
   ],
   "source": [
    "# empty list\n",
    "my_list = []\n",
    "\n",
    "# list of integers\n",
    "my_list = [1,2,3]\n",
    "\n",
    "# list of string\n",
    "my_list = ['Hello', 'world']\n",
    "\n",
    "# list with mixed data types\n",
    "my_list = [1, \"Hello\", 3.4]\n",
    "\n",
    "# access to the elements of the list\n",
    "print(my_list[0])\n",
    "print(my_list[1])\n",
    "print(my_list[2])"
   ]
  },
  {
   "cell_type": "markdown",
   "id": "267a269e",
   "metadata": {},
   "source": [
    "**Añadir y quitar elementos a la lista**\n",
    "* Añadir un elemento a una lista `lista.append(elemento)`\n",
    "* Quitar el último elemento de la lista `lista.pop()`\n",
    "\n",
    "**Coger solo algunos elementos de la lista (slicing)**\n",
    "\n",
    "Se utiliza`lista[cosas]` -> ¿Qué es cosas?\n",
    "* Toda la lista `lista[:]`\n",
    "* Desde el primero al quinto `lista[:5]`\n",
    "* Desde el segundo al final `lista[1:]`\n",
    "* Desde el segundo al quinto `lista[1:5]`\n",
    "* Desde el principio al penúltimo `lista[:-2]`"
   ]
  },
  {
   "cell_type": "markdown",
   "id": "353909a5",
   "metadata": {},
   "source": [
    "## Diccionario\n",
    "El diccionario nos permite dar una **clave** única para cada **valor**.\n",
    "\n",
    "Un diccionario es una colección que no está ordenada, es cambiante y está indexada."
   ]
  },
  {
   "cell_type": "code",
   "execution_count": 18,
   "id": "dbd4c078",
   "metadata": {},
   "outputs": [
    {
     "name": "stdout",
     "output_type": "stream",
     "text": [
      "My name is:  John\n",
      "I am 30 years old\n",
      "I am 5.8 feet tall\n"
     ]
    }
   ],
   "source": [
    "# creating dictionary\n",
    "dictionary_example = {\n",
    "    \"key1\": \"value1\",\n",
    "    \"key2\": \"value2\",\n",
    "    \"key3\": \"value3\"\n",
    "}\n",
    "\n",
    "# another example\n",
    "personal_info = {\n",
    "    'name': 'John',\n",
    "    'age': 30,\n",
    "    'height': 5.8\n",
    "}\n",
    "\n",
    "# access to the data in the dictionary\n",
    "print(\"My name is: \", personal_info['name'])\n",
    "print(\"I am {} years old\".format(personal_info['age']))\n",
    "print(\"I am {} feet tall\".format(personal_info['height']))"
   ]
  },
  {
   "cell_type": "markdown",
   "id": "f90e8e3e",
   "metadata": {},
   "source": [
    "**Creación de diccionarios utilizando un bucle for**\n",
    "\n",
    "Una forma original de crear diccionarios sería de utilizando un bucle for:"
   ]
  },
  {
   "cell_type": "code",
   "execution_count": 29,
   "id": "76b9c2a0",
   "metadata": {},
   "outputs": [
    {
     "name": "stdout",
     "output_type": "stream",
     "text": [
      "{'Esto': 'esto', 'es': 'es', 'una': 'una', 'frase': 'frase', 'RARuna': 'raruna'}\n"
     ]
    }
   ],
   "source": [
    "diccionario_palabras = {palabra: palabra.lower() for palabra in \"Esto es una frase RARuna\".split()}\n",
    "print(diccionario_palabras)"
   ]
  },
  {
   "cell_type": "markdown",
   "id": "7f00bf4f",
   "metadata": {},
   "source": [
    "## Tuplas\n",
    "No se pueden cambiar una vez definidas."
   ]
  },
  {
   "cell_type": "markdown",
   "id": "01c8e2a3",
   "metadata": {},
   "source": [
    "## Conjuntos\n",
    "No ordenados, no indexados. Solo guarda los elementos una vez."
   ]
  },
  {
   "cell_type": "code",
   "execution_count": 21,
   "id": "dca9c2ac",
   "metadata": {},
   "outputs": [
    {
     "name": "stdout",
     "output_type": "stream",
     "text": [
      "{1, 2, 3, 4, 'hola'}\n"
     ]
    }
   ],
   "source": [
    "mi_conjunto = {1,1,2,3,1,4,4,3,\"hola\"} # nótese que hemos incluido algunos elementos varias veces pero solo lo guardará 1 vez\n",
    "print(mi_conjunto)"
   ]
  },
  {
   "cell_type": "markdown",
   "id": "f8e7d97b",
   "metadata": {},
   "source": [
    "# Estructuras de control en Python\n",
    "## Condiciones"
   ]
  },
  {
   "cell_type": "code",
   "execution_count": 7,
   "id": "919bb401",
   "metadata": {},
   "outputs": [
    {
     "name": "stdout",
     "output_type": "stream",
     "text": [
      "You are adult\n"
     ]
    }
   ],
   "source": [
    "age=18\n",
    "if age>=18:\n",
    "  print(\"You are adult\")\n",
    "else:\n",
    "  print(\"You are not adult\")"
   ]
  },
  {
   "cell_type": "markdown",
   "id": "a36e6c52",
   "metadata": {},
   "source": [
    "## Bucles\n",
    "### Bucle for"
   ]
  },
  {
   "cell_type": "code",
   "execution_count": 8,
   "id": "7de96783",
   "metadata": {},
   "outputs": [
    {
     "name": "stdout",
     "output_type": "stream",
     "text": [
      "0\n",
      "1\n",
      "2\n",
      "3\n",
      "4\n"
     ]
    }
   ],
   "source": [
    "# Prints out the numbers 0, 1, 2, 3 and 4\n",
    "for x in range(5):\n",
    "    print(x)"
   ]
  },
  {
   "cell_type": "markdown",
   "id": "f3b04e51",
   "metadata": {},
   "source": [
    "**Uso de blucle for con estructuras de datos**\n",
    "\n",
    "Hay formas diferentes de realizar el bucle for, dependiendo de si queremos utilizar estructuras:"
   ]
  },
  {
   "cell_type": "code",
   "execution_count": 22,
   "id": "d5d24327",
   "metadata": {},
   "outputs": [
    {
     "name": "stdout",
     "output_type": "stream",
     "text": [
      "0\n",
      "1\n",
      "2\n",
      "3\n"
     ]
    }
   ],
   "source": [
    "# por cada elemento en una structura de datos -> for elemento in estructura:\n",
    "for a in range(4):\n",
    "    print(a)"
   ]
  },
  {
   "cell_type": "code",
   "execution_count": 24,
   "id": "1165249b",
   "metadata": {},
   "outputs": [
    {
     "name": "stdout",
     "output_type": "stream",
     "text": [
      "1\n",
      "Hello\n",
      "3.4\n"
     ]
    }
   ],
   "source": [
    "# list with mixed data types\n",
    "my_list = [1, \"Hello\", 3.4]\n",
    "\n",
    "# print each of the elements in the list\n",
    "for element in my_list:\n",
    "    print(element)"
   ]
  },
  {
   "cell_type": "code",
   "execution_count": 26,
   "id": "8af407e5",
   "metadata": {},
   "outputs": [
    {
     "name": "stdout",
     "output_type": "stream",
     "text": [
      "0 1\n",
      "1 Hello\n",
      "2 3.4\n"
     ]
    }
   ],
   "source": [
    "# print each of the elements in the list and their position\n",
    "for i, element in enumerate(my_list):\n",
    "    print(i, element)"
   ]
  },
  {
   "cell_type": "code",
   "execution_count": 28,
   "id": "414b433c",
   "metadata": {},
   "outputs": [
    {
     "name": "stdout",
     "output_type": "stream",
     "text": [
      "The key name contains the value John\n",
      "The key age contains the value 30\n",
      "The key height contains the value 5.8\n"
     ]
    }
   ],
   "source": [
    "# dictionary\n",
    "personal_info = {\n",
    "    'name': 'John',\n",
    "    'age': 30,\n",
    "    'height': 5.8\n",
    "}\n",
    "\n",
    "# print information from a dictionary\n",
    "for key, value in personal_info.items():\n",
    "    print(\"The key {0} contains the value {1}\".format(key,value))"
   ]
  },
  {
   "cell_type": "markdown",
   "id": "03311fdf",
   "metadata": {},
   "source": [
    "**Otras formas del uso de bucle for**"
   ]
  },
  {
   "cell_type": "code",
   "execution_count": null,
   "id": "1e268ceb",
   "metadata": {},
   "outputs": [],
   "source": [
    "# se puede utilizar directamente en la declaración de una lista\n",
    "lista_numeros = [a*3 for a in range(10)]\n",
    "print(lista_numeros)"
   ]
  },
  {
   "cell_type": "markdown",
   "id": "c14598f4",
   "metadata": {},
   "source": [
    "### Bucle while"
   ]
  },
  {
   "cell_type": "code",
   "execution_count": 9,
   "id": "2f5c7e3d",
   "metadata": {},
   "outputs": [
    {
     "name": "stdout",
     "output_type": "stream",
     "text": [
      "1\n",
      "2\n",
      "3\n",
      "4\n",
      "5\n"
     ]
    }
   ],
   "source": [
    "num = 1\n",
    "while num <= 5:\n",
    "    print(num)\n",
    "    num = num +1"
   ]
  },
  {
   "cell_type": "markdown",
   "id": "ce45601a",
   "metadata": {},
   "source": [
    "# Funciones interesantes en Python\n",
    "## Entrada de la información\n",
    "Utilizaremos la función **input()** para recoger la entrada del usuario."
   ]
  },
  {
   "cell_type": "code",
   "execution_count": 6,
   "id": "b081c0c7",
   "metadata": {},
   "outputs": [
    {
     "name": "stdout",
     "output_type": "stream",
     "text": [
      "Enter your age (any format is permitted): 10.11d\n",
      "Enter your age (integer format): 10\n",
      "Enter your age (float format): 10.1\n"
     ]
    }
   ],
   "source": [
    "#Taking string  as input and return string as output\n",
    "age=input('Enter your age (any format is permitted): ')\n",
    "\n",
    "#Taking string as input and convert it into integer.\n",
    "age=int(input('Enter your age (integer format): '))\n",
    "\n",
    "#Taking string as input and covert it into float\n",
    "age=float(input('Enter your age (float format): '))"
   ]
  },
  {
   "cell_type": "markdown",
   "id": "0667ce74",
   "metadata": {},
   "source": [
    "## Operaciones sobre strings\n",
    "* Concatenar dos cadenas `+`\n",
    "* Longitud de la cadena en caracteres `len`\n",
    "* Partir una cadena `split`\n",
    "* Quitar espacios de principio o final `strip`\n",
    "* Pasar a todo minúsculas `lower`\n",
    "* Pasar a todo mayúsculas `upper`\n",
    "* Formatear vs concatenar `format`"
   ]
  },
  {
   "cell_type": "code",
   "execution_count": 19,
   "id": "adabc974",
   "metadata": {},
   "outputs": [
    {
     "name": "stdout",
     "output_type": "stream",
     "text": [
      "El resultado de la primera prueba es 3 y el resultado de la segunda prueba es 2\n",
      "El resultado de la primera prueba es 3 y el resultado de la segunda prueba es 2\n"
     ]
    }
   ],
   "source": [
    "print('El resultado de la primera prueba es '+ '3'+ ' y el resultado de la segunda prueba es '+ '2')\n",
    "print('El resultado de la primera prueba es {0} y el resultado de la segunda prueba es {1}'.format(3,2))"
   ]
  },
  {
   "cell_type": "markdown",
   "id": "837dbdcd",
   "metadata": {},
   "source": [
    "## Funciones personalizadas\n",
    "En Python una función se define usando la palabra clave \"def\"."
   ]
  },
  {
   "cell_type": "code",
   "execution_count": 12,
   "id": "e6847902",
   "metadata": {},
   "outputs": [
    {
     "name": "stdout",
     "output_type": "stream",
     "text": [
      "Hello I am a function\n",
      "7\n"
     ]
    }
   ],
   "source": [
    "# Creating a function\n",
    "def my_function_addition(a, b):\n",
    "    print('Hello I am a function')\n",
    "    return a+b\n",
    "\n",
    "# Calling the function\n",
    "temp = my_function_addition(5, 2)\n",
    "print(temp)"
   ]
  },
  {
   "cell_type": "markdown",
   "id": "1d613554",
   "metadata": {},
   "source": [
    "# Paquetes\n",
    "Un **módulo** es un archivo que contiene definiciones y declaraciones en Python. Especifican funciones, métodos y nuevos tipos de Python que resuelven problemas particulares.\n",
    "\n",
    "Un **paquete** es una colección de módulos en directorios.\n",
    "\n",
    "Ejemplos:\n",
    "* \"NumPy\" para trabajar con los conjuntos\n",
    "* \"matplotlib\" y \"seaborn\" para la visualización de datos\n",
    "* \"scikit-learn\" para el machine learning\n",
    "\n",
    "Si queremos usar algún paquete, tenemos que tenerlo ya instalado o  instalarlo usando pip."
   ]
  },
  {
   "cell_type": "code",
   "execution_count": null,
   "id": "8ba9e0eb",
   "metadata": {},
   "outputs": [],
   "source": []
  }
 ],
 "metadata": {
  "kernelspec": {
   "display_name": "Python 3 (ipykernel)",
   "language": "python",
   "name": "python3"
  },
  "language_info": {
   "codemirror_mode": {
    "name": "ipython",
    "version": 3
   },
   "file_extension": ".py",
   "mimetype": "text/x-python",
   "name": "python",
   "nbconvert_exporter": "python",
   "pygments_lexer": "ipython3",
   "version": "3.9.12"
  }
 },
 "nbformat": 4,
 "nbformat_minor": 5
}
